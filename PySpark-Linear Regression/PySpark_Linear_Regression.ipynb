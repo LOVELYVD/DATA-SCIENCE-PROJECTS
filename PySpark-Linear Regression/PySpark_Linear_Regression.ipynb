{
  "nbformat": 4,
  "nbformat_minor": 0,
  "metadata": {
    "colab": {
      "name": "PySpark Linear Regression.ipynb",
      "provenance": []
    },
    "kernelspec": {
      "name": "python3",
      "display_name": "Python 3"
    },
    "language_info": {
      "name": "python"
    }
  },
  "cells": [
    {
      "cell_type": "code",
      "execution_count": 4,
      "metadata": {
        "colab": {
          "base_uri": "https://localhost:8080/"
        },
        "id": "Mkzw-_r_eyYc",
        "outputId": "7095ef5c-4ee1-40bb-b440-0fc67395e18a"
      },
      "outputs": [
        {
          "output_type": "stream",
          "name": "stdout",
          "text": [
            "Requirement already satisfied: pyspark in /usr/local/lib/python3.7/dist-packages (3.2.0)\n",
            "Requirement already satisfied: py4j==0.10.9.2 in /usr/local/lib/python3.7/dist-packages (from pyspark) (0.10.9.2)\n"
          ]
        }
      ],
      "source": [
        "!pip install pyspark\n",
        "from pyspark.sql import SparkSession\n",
        "spark= SparkSession.builder.appName('Customers').getOrCreate()"
      ]
    },
    {
      "cell_type": "code",
      "source": [
        "from pyspark.ml.regression import LinearRegression"
      ],
      "metadata": {
        "id": "D94M7Y4te83z"
      },
      "execution_count": 5,
      "outputs": []
    },
    {
      "cell_type": "code",
      "source": [
        "dataset=spark.read.csv(\"Ecommerce_Customers.csv\",inferSchema=True,header=True)"
      ],
      "metadata": {
        "id": "D3-ozGH3fPpM"
      },
      "execution_count": 6,
      "outputs": []
    },
    {
      "cell_type": "code",
      "source": [
        "dataset"
      ],
      "metadata": {
        "colab": {
          "base_uri": "https://localhost:8080/"
        },
        "id": "VqEgM4_ZfXVd",
        "outputId": "8b2db167-3ac2-48cd-9813-b156b45fe9ac"
      },
      "execution_count": 7,
      "outputs": [
        {
          "output_type": "execute_result",
          "data": {
            "text/plain": [
              "DataFrame[Email: string, Address: string, Avg Session Length: double, Time on App: double, Time on Website: double, Length of Membership: double, Yearly Amount Spent: double]"
            ]
          },
          "metadata": {},
          "execution_count": 7
        }
      ]
    },
    {
      "cell_type": "code",
      "source": [
        "dataset.show()"
      ],
      "metadata": {
        "colab": {
          "base_uri": "https://localhost:8080/"
        },
        "id": "q7CTYy64fXQo",
        "outputId": "06d2739b-9446-43e4-c963-9efbcdb16de4"
      },
      "execution_count": 8,
      "outputs": [
        {
          "output_type": "stream",
          "name": "stdout",
          "text": [
            "+--------------------+--------------------+------------------+-----------+---------------+--------------------+-------------------+\n",
            "|               Email|             Address|Avg Session Length|Time on App|Time on Website|Length of Membership|Yearly Amount Spent|\n",
            "+--------------------+--------------------+------------------+-----------+---------------+--------------------+-------------------+\n",
            "|mstephenson@ferna...|835 Frank TunnelW...|       34.49726773|12.65565115|    39.57766802|         4.082620633|         587.951054|\n",
            "|   hduke@hotmail.com|4547 Archer Commo...|       31.92627203|11.10946073|    37.26895887|         2.664034182|        392.2049334|\n",
            "|    pallen@yahoo.com|24645 Valerie Uni...|       33.00091476|11.33027806|    37.11059744|         4.104543202|        487.5475049|\n",
            "|riverarebecca@gma...|1414 David Throug...|       34.30555663|13.71751367|    36.72128268|         3.120178783|         581.852344|\n",
            "|mstephens@davidso...|14023 Rodriguez P...|       33.33067252|12.79518855|     37.5366533|         4.446308318|         599.406092|\n",
            "|alvareznancy@luca...|645 Martha Park A...|       33.87103788|12.02692534|    34.47687763|         5.493507201|        637.1024479|\n",
            "|katherine20@yahoo...|68388 Reyes Light...|        32.0215955|11.36634831|    36.68377615|         4.685017247|        521.5721748|\n",
            "|  awatkins@yahoo.com|Unit 6538 Box 898...|       32.73914294|12.35195897|    37.37335886|         4.434273435|        549.9041461|\n",
            "|vchurch@walter-ma...|860 Lee KeyWest D...|        33.9877729|13.38623528|    37.53449734|         3.273433578|         570.200409|\n",
            "|    bonnie69@lin.biz|PSC 2734, Box 525...|       31.93654862|11.81412829|    37.14516822|         3.202806072|        427.1993849|\n",
            "|andrew06@peterson...|26104 Alexander G...|       33.99257277|13.33897545|    37.22580613|         2.482607771|        492.6060127|\n",
            "|ryanwerner@freema...|Unit 2413 Box 034...|       33.87936082|  11.584783|    37.08792607|         3.713209203|        522.3374046|\n",
            "|   knelson@gmail.com|6705 Miller Orcha...|       29.53242897| 10.9612984|    37.42021558|         4.046423164|        408.6403511|\n",
            "|wrightpeter@yahoo...|05302 Dunlap Ferr...|       33.19033404|12.95922609|     36.1446667|         3.918541839|        573.4158673|\n",
            "|taylormason@gmail...|7773 Powell Sprin...|       32.38797585|13.14872569|    36.61995708|         2.494543647|        470.4527333|\n",
            "| jstark@anderson.com|49558 Ramirez Roa...|       30.73772037|12.63660605|    36.21376309|         3.357846842|        461.7807422|\n",
            "| wjennings@gmail.com|6362 Wilson Mount...|        32.1253869|11.73386169|    34.89409275|         3.136132716|        457.8476959|\n",
            "|rebecca45@hale-ba...|8982 Burton RowWi...|       32.33889932|12.01319469|    38.38513659|         2.420806161|        407.7045475|\n",
            "|alejandro75@hotma...|64475 Andre Club ...|       32.18781205|14.71538754|    38.24411459|         1.516575581|        452.3156755|\n",
            "|samuel46@love-wes...|544 Alexander Hei...|       32.61785606|13.98959256|     37.1905038|          4.06454855|        605.0610388|\n",
            "+--------------------+--------------------+------------------+-----------+---------------+--------------------+-------------------+\n",
            "only showing top 20 rows\n",
            "\n"
          ]
        }
      ]
    },
    {
      "cell_type": "markdown",
      "source": [
        "sklearn\n",
        "\n",
        "x1,X2,X3,X4,X5    Y1 ---->model-->prediction\n",
        "\n",
        "[X1,X2,X3,X4,X5]  Y1---->model--->prediction"
      ],
      "metadata": {
        "id": "XpjMG40ZgaE4"
      }
    },
    {
      "cell_type": "code",
      "source": [
        "dataset.printSchema()"
      ],
      "metadata": {
        "colab": {
          "base_uri": "https://localhost:8080/"
        },
        "id": "zQcmCwFsfXNa",
        "outputId": "4267d0f2-3146-4d09-9d5d-9cb2228c522c"
      },
      "execution_count": 9,
      "outputs": [
        {
          "output_type": "stream",
          "name": "stdout",
          "text": [
            "root\n",
            " |-- Email: string (nullable = true)\n",
            " |-- Address: string (nullable = true)\n",
            " |-- Avg Session Length: double (nullable = true)\n",
            " |-- Time on App: double (nullable = true)\n",
            " |-- Time on Website: double (nullable = true)\n",
            " |-- Length of Membership: double (nullable = true)\n",
            " |-- Yearly Amount Spent: double (nullable = true)\n",
            "\n"
          ]
        }
      ]
    },
    {
      "cell_type": "code",
      "source": [
        "from pyspark.ml.linalg import Vectors\n",
        "from pyspark.ml.feature import VectorAssembler"
      ],
      "metadata": {
        "id": "i47nXDV3ff-q"
      },
      "execution_count": 11,
      "outputs": []
    },
    {
      "cell_type": "code",
      "source": [
        "featureassembler=VectorAssembler(inputCols=[\"Avg Session Length\",\"Time on App\",\"Time on Website\",\"Length of Membership\"],outputCol=\"Independent Features\")"
      ],
      "metadata": {
        "id": "Vwu01fDfff7W"
      },
      "execution_count": 12,
      "outputs": []
    },
    {
      "cell_type": "code",
      "source": [
        "output=featureassembler.transform(dataset)"
      ],
      "metadata": {
        "id": "npTjrzwPff5D"
      },
      "execution_count": 13,
      "outputs": []
    },
    {
      "cell_type": "code",
      "source": [
        "output.show()"
      ],
      "metadata": {
        "colab": {
          "base_uri": "https://localhost:8080/"
        },
        "id": "nhV_WyxCff2T",
        "outputId": "d585c5f6-967d-4566-abd8-4f1aaf324701"
      },
      "execution_count": 14,
      "outputs": [
        {
          "output_type": "stream",
          "name": "stdout",
          "text": [
            "+--------------------+--------------------+------------------+-----------+---------------+--------------------+-------------------+--------------------+\n",
            "|               Email|             Address|Avg Session Length|Time on App|Time on Website|Length of Membership|Yearly Amount Spent|Independent Features|\n",
            "+--------------------+--------------------+------------------+-----------+---------------+--------------------+-------------------+--------------------+\n",
            "|mstephenson@ferna...|835 Frank TunnelW...|       34.49726773|12.65565115|    39.57766802|         4.082620633|         587.951054|[34.49726773,12.6...|\n",
            "|   hduke@hotmail.com|4547 Archer Commo...|       31.92627203|11.10946073|    37.26895887|         2.664034182|        392.2049334|[31.92627203,11.1...|\n",
            "|    pallen@yahoo.com|24645 Valerie Uni...|       33.00091476|11.33027806|    37.11059744|         4.104543202|        487.5475049|[33.00091476,11.3...|\n",
            "|riverarebecca@gma...|1414 David Throug...|       34.30555663|13.71751367|    36.72128268|         3.120178783|         581.852344|[34.30555663,13.7...|\n",
            "|mstephens@davidso...|14023 Rodriguez P...|       33.33067252|12.79518855|     37.5366533|         4.446308318|         599.406092|[33.33067252,12.7...|\n",
            "|alvareznancy@luca...|645 Martha Park A...|       33.87103788|12.02692534|    34.47687763|         5.493507201|        637.1024479|[33.87103788,12.0...|\n",
            "|katherine20@yahoo...|68388 Reyes Light...|        32.0215955|11.36634831|    36.68377615|         4.685017247|        521.5721748|[32.0215955,11.36...|\n",
            "|  awatkins@yahoo.com|Unit 6538 Box 898...|       32.73914294|12.35195897|    37.37335886|         4.434273435|        549.9041461|[32.73914294,12.3...|\n",
            "|vchurch@walter-ma...|860 Lee KeyWest D...|        33.9877729|13.38623528|    37.53449734|         3.273433578|         570.200409|[33.9877729,13.38...|\n",
            "|    bonnie69@lin.biz|PSC 2734, Box 525...|       31.93654862|11.81412829|    37.14516822|         3.202806072|        427.1993849|[31.93654862,11.8...|\n",
            "|andrew06@peterson...|26104 Alexander G...|       33.99257277|13.33897545|    37.22580613|         2.482607771|        492.6060127|[33.99257277,13.3...|\n",
            "|ryanwerner@freema...|Unit 2413 Box 034...|       33.87936082|  11.584783|    37.08792607|         3.713209203|        522.3374046|[33.87936082,11.5...|\n",
            "|   knelson@gmail.com|6705 Miller Orcha...|       29.53242897| 10.9612984|    37.42021558|         4.046423164|        408.6403511|[29.53242897,10.9...|\n",
            "|wrightpeter@yahoo...|05302 Dunlap Ferr...|       33.19033404|12.95922609|     36.1446667|         3.918541839|        573.4158673|[33.19033404,12.9...|\n",
            "|taylormason@gmail...|7773 Powell Sprin...|       32.38797585|13.14872569|    36.61995708|         2.494543647|        470.4527333|[32.38797585,13.1...|\n",
            "| jstark@anderson.com|49558 Ramirez Roa...|       30.73772037|12.63660605|    36.21376309|         3.357846842|        461.7807422|[30.73772037,12.6...|\n",
            "| wjennings@gmail.com|6362 Wilson Mount...|        32.1253869|11.73386169|    34.89409275|         3.136132716|        457.8476959|[32.1253869,11.73...|\n",
            "|rebecca45@hale-ba...|8982 Burton RowWi...|       32.33889932|12.01319469|    38.38513659|         2.420806161|        407.7045475|[32.33889932,12.0...|\n",
            "|alejandro75@hotma...|64475 Andre Club ...|       32.18781205|14.71538754|    38.24411459|         1.516575581|        452.3156755|[32.18781205,14.7...|\n",
            "|samuel46@love-wes...|544 Alexander Hei...|       32.61785606|13.98959256|     37.1905038|          4.06454855|        605.0610388|[32.61785606,13.9...|\n",
            "+--------------------+--------------------+------------------+-----------+---------------+--------------------+-------------------+--------------------+\n",
            "only showing top 20 rows\n",
            "\n"
          ]
        }
      ]
    },
    {
      "cell_type": "code",
      "source": [
        "output.select(\"Independent Features\").show()"
      ],
      "metadata": {
        "colab": {
          "base_uri": "https://localhost:8080/"
        },
        "id": "Z5RA_KehfqcC",
        "outputId": "1bf50f5b-09ba-4e91-e392-974589588e2b"
      },
      "execution_count": 15,
      "outputs": [
        {
          "output_type": "stream",
          "name": "stdout",
          "text": [
            "+--------------------+\n",
            "|Independent Features|\n",
            "+--------------------+\n",
            "|[34.49726773,12.6...|\n",
            "|[31.92627203,11.1...|\n",
            "|[33.00091476,11.3...|\n",
            "|[34.30555663,13.7...|\n",
            "|[33.33067252,12.7...|\n",
            "|[33.87103788,12.0...|\n",
            "|[32.0215955,11.36...|\n",
            "|[32.73914294,12.3...|\n",
            "|[33.9877729,13.38...|\n",
            "|[31.93654862,11.8...|\n",
            "|[33.99257277,13.3...|\n",
            "|[33.87936082,11.5...|\n",
            "|[29.53242897,10.9...|\n",
            "|[33.19033404,12.9...|\n",
            "|[32.38797585,13.1...|\n",
            "|[30.73772037,12.6...|\n",
            "|[32.1253869,11.73...|\n",
            "|[32.33889932,12.0...|\n",
            "|[32.18781205,14.7...|\n",
            "|[32.61785606,13.9...|\n",
            "+--------------------+\n",
            "only showing top 20 rows\n",
            "\n"
          ]
        }
      ]
    },
    {
      "cell_type": "code",
      "source": [
        "output.columns"
      ],
      "metadata": {
        "colab": {
          "base_uri": "https://localhost:8080/"
        },
        "id": "L_rSKuMafqY0",
        "outputId": "f2057ed1-ffe8-4342-bfcc-59f41c7001b5"
      },
      "execution_count": 16,
      "outputs": [
        {
          "output_type": "execute_result",
          "data": {
            "text/plain": [
              "['Email',\n",
              " 'Address',\n",
              " 'Avg Session Length',\n",
              " 'Time on App',\n",
              " 'Time on Website',\n",
              " 'Length of Membership',\n",
              " 'Yearly Amount Spent',\n",
              " 'Independent Features']"
            ]
          },
          "metadata": {},
          "execution_count": 16
        }
      ]
    },
    {
      "cell_type": "code",
      "source": [
        "finalized_data=output.select(\"Independent Features\",\"Yearly Amount Spent\")"
      ],
      "metadata": {
        "id": "4-v1s6IefqWX"
      },
      "execution_count": 17,
      "outputs": []
    },
    {
      "cell_type": "code",
      "source": [
        "finalized_data.show()"
      ],
      "metadata": {
        "colab": {
          "base_uri": "https://localhost:8080/"
        },
        "id": "wotMkZ9Mf7ii",
        "outputId": "c59c71ba-0c17-4ebe-a988-f9866a42e172"
      },
      "execution_count": 18,
      "outputs": [
        {
          "output_type": "stream",
          "name": "stdout",
          "text": [
            "+--------------------+-------------------+\n",
            "|Independent Features|Yearly Amount Spent|\n",
            "+--------------------+-------------------+\n",
            "|[34.49726773,12.6...|         587.951054|\n",
            "|[31.92627203,11.1...|        392.2049334|\n",
            "|[33.00091476,11.3...|        487.5475049|\n",
            "|[34.30555663,13.7...|         581.852344|\n",
            "|[33.33067252,12.7...|         599.406092|\n",
            "|[33.87103788,12.0...|        637.1024479|\n",
            "|[32.0215955,11.36...|        521.5721748|\n",
            "|[32.73914294,12.3...|        549.9041461|\n",
            "|[33.9877729,13.38...|         570.200409|\n",
            "|[31.93654862,11.8...|        427.1993849|\n",
            "|[33.99257277,13.3...|        492.6060127|\n",
            "|[33.87936082,11.5...|        522.3374046|\n",
            "|[29.53242897,10.9...|        408.6403511|\n",
            "|[33.19033404,12.9...|        573.4158673|\n",
            "|[32.38797585,13.1...|        470.4527333|\n",
            "|[30.73772037,12.6...|        461.7807422|\n",
            "|[32.1253869,11.73...|        457.8476959|\n",
            "|[32.33889932,12.0...|        407.7045475|\n",
            "|[32.18781205,14.7...|        452.3156755|\n",
            "|[32.61785606,13.9...|        605.0610388|\n",
            "+--------------------+-------------------+\n",
            "only showing top 20 rows\n",
            "\n"
          ]
        }
      ]
    },
    {
      "cell_type": "code",
      "source": [
        "train_data,test_data=finalized_data.randomSplit([0.75,0.25])"
      ],
      "metadata": {
        "id": "7S7ORC4nf7S_"
      },
      "execution_count": 19,
      "outputs": []
    },
    {
      "cell_type": "code",
      "source": [
        "regressor=LinearRegression(featuresCol='Independent Features', labelCol='Yearly Amount Spent')\n",
        "regressor=regressor.fit(train_data)"
      ],
      "metadata": {
        "id": "0tH_2srgf_YS"
      },
      "execution_count": 20,
      "outputs": []
    },
    {
      "cell_type": "code",
      "source": [
        "regressor.coefficients"
      ],
      "metadata": {
        "colab": {
          "base_uri": "https://localhost:8080/"
        },
        "id": "FWCq5gjdf_U-",
        "outputId": "233d318a-8a22-4e2a-866e-d930482d51fc"
      },
      "execution_count": 21,
      "outputs": [
        {
          "output_type": "execute_result",
          "data": {
            "text/plain": [
              "DenseVector([26.1338, 38.6977, 0.3692, 62.137])"
            ]
          },
          "metadata": {},
          "execution_count": 21
        }
      ]
    },
    {
      "cell_type": "code",
      "source": [
        "regressor.intercept"
      ],
      "metadata": {
        "colab": {
          "base_uri": "https://localhost:8080/"
        },
        "id": "Ued_TGlGf_Sl",
        "outputId": "df067578-9c78-479b-ec8e-c99339255b7a"
      },
      "execution_count": 22,
      "outputs": [
        {
          "output_type": "execute_result",
          "data": {
            "text/plain": [
              "-1063.8988806836367"
            ]
          },
          "metadata": {},
          "execution_count": 22
        }
      ]
    },
    {
      "cell_type": "code",
      "source": [
        "pred_results=regressor.evaluate(test_data)"
      ],
      "metadata": {
        "id": "Qrl58S3LgD5j"
      },
      "execution_count": 23,
      "outputs": []
    },
    {
      "cell_type": "code",
      "source": [
        "pred_results.predictions.show(40)"
      ],
      "metadata": {
        "colab": {
          "base_uri": "https://localhost:8080/"
        },
        "id": "1Rce3tHqgGJf",
        "outputId": "fa890a68-ebb9-4767-a46e-a2227f7242cc"
      },
      "execution_count": 24,
      "outputs": [
        {
          "output_type": "stream",
          "name": "stderr",
          "text": [
            "/usr/local/lib/python3.7/dist-packages/pyspark/sql/context.py:127: FutureWarning: Deprecated in 3.0.0. Use SparkSession.builder.getOrCreate() instead.\n",
            "  FutureWarning\n"
          ]
        },
        {
          "output_type": "stream",
          "name": "stdout",
          "text": [
            "+--------------------+-------------------+------------------+\n",
            "|Independent Features|Yearly Amount Spent|        prediction|\n",
            "+--------------------+-------------------+------------------+\n",
            "|[30.57436368,11.3...|        442.0644138| 441.4911864382275|\n",
            "|[31.3123496,11.68...|         463.591418| 444.2229972347143|\n",
            "|[31.5171218,10.74...|        275.9184207| 278.6811675138106|\n",
            "|[31.5261979,12.04...|        409.0945262|417.29084696655923|\n",
            "|[31.60983957,12.7...|        444.5455497| 426.6591676009548|\n",
            "|[31.76561882,12.4...|        496.5540816|501.08041044159813|\n",
            "|[31.80930032,11.6...|        536.7718994| 548.7181116506595|\n",
            "|[31.8209982,10.77...|         424.675281| 416.9451589491491|\n",
            "|[31.82797906,12.4...|        440.0027475| 448.7642315000385|\n",
            "|[31.82934646,11.2...|         385.152338|383.46109591298523|\n",
            "|[31.8530748,12.14...|        459.2851235| 461.3687843171065|\n",
            "|[31.86274111,14.0...|        556.2981412| 558.0562797062332|\n",
            "|[31.90485713,12.2...|        473.9498574|491.08047298589076|\n",
            "|[31.90962683,11.3...|        563.4460357| 552.7618972796629|\n",
            "|[31.92627203,11.1...|        392.2049334|379.66058888617226|\n",
            "|[31.94539575,12.9...|        657.0199239| 663.9331297618585|\n",
            "|[31.95630056,12.8...|        547.1259317| 565.3726590173205|\n",
            "|[32.0215955,11.36...|        521.5721748| 517.4544570007954|\n",
            "|[32.04781463,12.4...|        497.3895578|  480.689133445223|\n",
            "|[32.05426185,13.1...|        561.8746577| 557.2654766218759|\n",
            "|[32.07054622,11.7...|        532.7517876| 532.3865309544624|\n",
            "|[32.13386241,11.6...|        443.4418601| 447.8658625371411|\n",
            "|[32.17550124,13.3...|        588.7126055| 578.0769564854156|\n",
            "|[32.18781205,14.7...|        452.3156755| 455.0972136406888|\n",
            "|[32.20465465,12.4...|         478.584286| 478.3926304151107|\n",
            "|[32.23014912,11.0...|        517.1651356| 514.8874744242269|\n",
            "|[32.30274837,12.8...|        576.0252441| 577.0229406604547|\n",
            "|[32.33263707,11.5...|        532.7174857| 538.8391011889369|\n",
            "|[32.35147815,13.1...|        532.9352188| 528.1130109984958|\n",
            "|[32.38625186,10.6...|        418.1500811| 420.9531423061703|\n",
            "|[32.38696867,12.7...|        508.7719067|503.92456667240026|\n",
            "|[32.38845163,11.0...|        424.7626355|442.98221092322615|\n",
            "|[32.40173183,12.0...|        506.5473071| 505.5308222897618|\n",
            "|[32.40855896,10.9...|        441.8966315|  439.758306271656|\n",
            "|[32.43977025,12.4...|        573.3062223|  584.773799117266|\n",
            "|[32.45455254,11.8...|        490.6004425| 482.6579892926352|\n",
            "|[32.48426048,10.9...|         425.745092| 424.2708407922246|\n",
            "|[32.4914466,12.53...|        449.0703194| 437.9648096527619|\n",
            "|[32.5367749,11.12...|        510.5394217| 487.0135229589139|\n",
            "|[32.54345917,13.3...|        537.2150527| 540.0867298363105|\n",
            "+--------------------+-------------------+------------------+\n",
            "only showing top 40 rows\n",
            "\n"
          ]
        }
      ]
    }
  ]
}